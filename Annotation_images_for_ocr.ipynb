{
 "cells": [
  {
   "cell_type": "code",
   "execution_count": 1,
   "metadata": {},
   "outputs": [],
   "source": [
    "from IPython.display import display, Image\n",
    "import IPython.display as ipd\n",
    "import ipywidgets as widgets\n",
    "import pandas as pd\n",
    "import glob"
   ]
  },
  {
   "cell_type": "code",
   "execution_count": 4,
   "metadata": {},
   "outputs": [],
   "source": [
    "images_path = \"/path/to/image\"\n",
    "images_path = glob.glob(images_path+\"/*.png\") "
   ]
  },
  {
   "cell_type": "code",
   "execution_count": 3,
   "metadata": {},
   "outputs": [],
   "source": [
    "# Initialize a dataframe with image path with empty lable (i.e., transcription)\n",
    "data = pd.DataFrame.from_records({\"label\":len(images_path)*[\"\"], \"path\":images_path})"
   ]
  },
  {
   "cell_type": "code",
   "execution_count": 4,
   "metadata": {
    "scrolled": true
   },
   "outputs": [],
   "source": [
    "def display_data(data):\n",
    "    label_dict = {}\n",
    "    for i in data.iterrows():\n",
    "        img_path = i[1][\"path\"]\n",
    "        label = i[1][\"label\"]\n",
    "        \n",
    "        ipd.display(Image(filename=img_path))\n",
    "        word_input = widgets.Text(value=label, placeholder='Type something', description='Word:', disabled=False)\n",
    "        ipd.display(word_input)\n",
    "        \n",
    "        # Key should be the relevant path only.\n",
    "        label_dict[f\"{img_path}\"] = word_input # Store the object, so it can be changed after we run the cell.\n",
    "    return label_dict"
   ]
  },
  {
   "cell_type": "code",
   "execution_count": 5,
   "metadata": {},
   "outputs": [],
   "source": [
    "annotated_data = display_data(data)"
   ]
  },
  {
   "cell_type": "code",
   "execution_count": 8,
   "metadata": {},
   "outputs": [],
   "source": [
    "def save_data(x):\n",
    "    image_path = x['path']\n",
    "    x['label'] = annotated_data[image_path].value\n",
    "    return x"
   ]
  },
  {
   "cell_type": "code",
   "execution_count": 9,
   "metadata": {},
   "outputs": [],
   "source": [
    "new_data = data.apply(save_data, axis=1)"
   ]
  },
  {
   "cell_type": "code",
   "execution_count": 23,
   "metadata": {},
   "outputs": [],
   "source": [
    "csv_new_data = \"\\n\".join((new_data['path'].astype(str) + \"\\t\" + new_data['label']).to_list())"
   ]
  },
  {
   "cell_type": "code",
   "execution_count": 6,
   "metadata": {},
   "outputs": [],
   "source": [
    "csv_new_data"
   ]
  },
  {
   "cell_type": "code",
   "execution_count": null,
   "metadata": {},
   "outputs": [],
   "source": [
    "open(\"annotated_data.csv\", \"w\").write(csv_new_data)"
   ]
  }
 ],
 "metadata": {
  "kernelspec": {
   "display_name": "Python 3",
   "language": "python",
   "name": "python3"
  },
  "language_info": {
   "codemirror_mode": {
    "name": "ipython",
    "version": 3
   },
   "file_extension": ".py",
   "mimetype": "text/x-python",
   "name": "python",
   "nbconvert_exporter": "python",
   "pygments_lexer": "ipython3",
   "version": "3.7.4"
  }
 },
 "nbformat": 4,
 "nbformat_minor": 5
}
